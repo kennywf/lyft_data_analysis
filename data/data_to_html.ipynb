{
 "cells": [
  {
   "cell_type": "code",
   "execution_count": 2,
   "metadata": {},
   "outputs": [],
   "source": [
    "# Dependencies\n",
    "import pandas as pd"
   ]
  },
  {
   "cell_type": "code",
   "execution_count": null,
   "metadata": {},
   "outputs": [],
   "source": [
    "# Read csv"
   ]
  },
  {
   "cell_type": "code",
   "execution_count": 3,
   "metadata": {},
   "outputs": [
    {
     "data": {
      "text/html": [
       "<div>\n",
       "<style scoped>\n",
       "    .dataframe tbody tr th:only-of-type {\n",
       "        vertical-align: middle;\n",
       "    }\n",
       "\n",
       "    .dataframe tbody tr th {\n",
       "        vertical-align: top;\n",
       "    }\n",
       "\n",
       "    .dataframe thead th {\n",
       "        text-align: right;\n",
       "    }\n",
       "</style>\n",
       "<table border=\"1\" class=\"dataframe\">\n",
       "  <thead>\n",
       "    <tr style=\"text-align: right;\">\n",
       "      <th></th>\n",
       "      <th>time_of_trip</th>\n",
       "      <th>start_lat</th>\n",
       "      <th>start_lng</th>\n",
       "      <th>hour</th>\n",
       "      <th>hour_grouping</th>\n",
       "    </tr>\n",
       "  </thead>\n",
       "  <tbody>\n",
       "    <tr>\n",
       "      <th>0</th>\n",
       "      <td>9/5/2014 0:00</td>\n",
       "      <td>40.77766</td>\n",
       "      <td>-73.95732</td>\n",
       "      <td>0</td>\n",
       "      <td>12:00 AM - 2:59 AM</td>\n",
       "    </tr>\n",
       "    <tr>\n",
       "      <th>1</th>\n",
       "      <td>9/5/2014 0:00</td>\n",
       "      <td>40.71150</td>\n",
       "      <td>-73.94496</td>\n",
       "      <td>0</td>\n",
       "      <td>12:00 AM - 2:59 AM</td>\n",
       "    </tr>\n",
       "    <tr>\n",
       "      <th>2</th>\n",
       "      <td>9/5/2014 0:00</td>\n",
       "      <td>40.77369</td>\n",
       "      <td>-73.87532</td>\n",
       "      <td>0</td>\n",
       "      <td>12:00 AM - 2:59 AM</td>\n",
       "    </tr>\n",
       "    <tr>\n",
       "      <th>3</th>\n",
       "      <td>9/5/2014 0:00</td>\n",
       "      <td>40.67803</td>\n",
       "      <td>-73.97806</td>\n",
       "      <td>0</td>\n",
       "      <td>12:00 AM - 2:59 AM</td>\n",
       "    </tr>\n",
       "    <tr>\n",
       "      <th>4</th>\n",
       "      <td>9/5/2014 0:00</td>\n",
       "      <td>40.72813</td>\n",
       "      <td>-74.00290</td>\n",
       "      <td>0</td>\n",
       "      <td>12:00 AM - 2:59 AM</td>\n",
       "    </tr>\n",
       "    <tr>\n",
       "      <th>5</th>\n",
       "      <td>9/5/2014 0:00</td>\n",
       "      <td>40.72536</td>\n",
       "      <td>-74.01009</td>\n",
       "      <td>0</td>\n",
       "      <td>12:00 AM - 2:59 AM</td>\n",
       "    </tr>\n",
       "    <tr>\n",
       "      <th>6</th>\n",
       "      <td>9/5/2014 0:00</td>\n",
       "      <td>40.77982</td>\n",
       "      <td>-73.94844</td>\n",
       "      <td>0</td>\n",
       "      <td>12:00 AM - 2:59 AM</td>\n",
       "    </tr>\n",
       "    <tr>\n",
       "      <th>7</th>\n",
       "      <td>9/5/2014 0:00</td>\n",
       "      <td>40.72791</td>\n",
       "      <td>-74.00542</td>\n",
       "      <td>0</td>\n",
       "      <td>12:00 AM - 2:59 AM</td>\n",
       "    </tr>\n",
       "    <tr>\n",
       "      <th>8</th>\n",
       "      <td>9/5/2014 0:00</td>\n",
       "      <td>40.75891</td>\n",
       "      <td>-73.97615</td>\n",
       "      <td>0</td>\n",
       "      <td>12:00 AM - 2:59 AM</td>\n",
       "    </tr>\n",
       "    <tr>\n",
       "      <th>9</th>\n",
       "      <td>9/5/2014 0:00</td>\n",
       "      <td>40.73121</td>\n",
       "      <td>-73.98265</td>\n",
       "      <td>0</td>\n",
       "      <td>12:00 AM - 2:59 AM</td>\n",
       "    </tr>\n",
       "  </tbody>\n",
       "</table>\n",
       "</div>"
      ],
      "text/plain": [
       "    time_of_trip  start_lat  start_lng  hour       hour_grouping\n",
       "0  9/5/2014 0:00   40.77766  -73.95732     0  12:00 AM - 2:59 AM\n",
       "1  9/5/2014 0:00   40.71150  -73.94496     0  12:00 AM - 2:59 AM\n",
       "2  9/5/2014 0:00   40.77369  -73.87532     0  12:00 AM - 2:59 AM\n",
       "3  9/5/2014 0:00   40.67803  -73.97806     0  12:00 AM - 2:59 AM\n",
       "4  9/5/2014 0:00   40.72813  -74.00290     0  12:00 AM - 2:59 AM\n",
       "5  9/5/2014 0:00   40.72536  -74.01009     0  12:00 AM - 2:59 AM\n",
       "6  9/5/2014 0:00   40.77982  -73.94844     0  12:00 AM - 2:59 AM\n",
       "7  9/5/2014 0:00   40.72791  -74.00542     0  12:00 AM - 2:59 AM\n",
       "8  9/5/2014 0:00   40.75891  -73.97615     0  12:00 AM - 2:59 AM\n",
       "9  9/5/2014 0:00   40.73121  -73.98265     0  12:00 AM - 2:59 AM"
      ]
     },
     "execution_count": 3,
     "metadata": {},
     "output_type": "execute_result"
    }
   ],
   "source": [
    "lyft_csv = pd.read_csv('lyft_sep5_2014_final.csv')\n",
    "lyft_csv.head(10)"
   ]
  },
  {
   "cell_type": "code",
   "execution_count": 5,
   "metadata": {},
   "outputs": [],
   "source": [
    "lyft_data_html = lyft_csv.to_html('data.html')"
   ]
  },
  {
   "cell_type": "code",
   "execution_count": null,
   "metadata": {},
   "outputs": [],
   "source": []
  }
 ],
 "metadata": {
  "kernelspec": {
   "display_name": "Python 3",
   "language": "python",
   "name": "python3"
  },
  "language_info": {
   "codemirror_mode": {
    "name": "ipython",
    "version": 3
   },
   "file_extension": ".py",
   "mimetype": "text/x-python",
   "name": "python",
   "nbconvert_exporter": "python",
   "pygments_lexer": "ipython3",
   "version": "3.7.6"
  }
 },
 "nbformat": 4,
 "nbformat_minor": 4
}
